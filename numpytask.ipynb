{
 "cells": [
  {
   "cell_type": "code",
   "execution_count": null,
   "id": "ff844b6a",
   "metadata": {},
   "outputs": [],
   "source": []
  },
  {
   "cell_type": "code",
   "execution_count": 22,
   "id": "7999db03",
   "metadata": {},
   "outputs": [
    {
     "name": "stdout",
     "output_type": "stream",
     "text": [
      "mean of the array: 5.5 \n",
      "standard deviation of the array: 2.8722813232690143\n"
     ]
    }
   ],
   "source": [
    "# Task 1: Calculate the mean and standard deviation of a NumPy array\n",
    "\n",
    "import numpy as np\n",
    "arr= np.array([1, 2, 3, 4, 5, 6, 7, 8, 9, 10])\n",
    "mean_1 = np.mean(arr)\n",
    "std_1 = np.std(arr)\n",
    "print(\"mean of the array:\",mean_1,\"\\nstandard deviation of the array:\",std_1)"
   ]
  },
  {
   "cell_type": "code",
   "execution_count": 20,
   "id": "4eebb66b",
   "metadata": {},
   "outputs": [
    {
     "name": "stdout",
     "output_type": "stream",
     "text": [
      "[[0.36572801 0.94530298 0.66911311 0.00724821 0.60261187]\n",
      " [0.99473986 0.61712414 0.12925544 0.31649869 0.61165631]\n",
      " [0.5681828  0.8048407  0.14219726 0.47927824 0.79853914]\n",
      " [0.35485251 0.8749371  0.46663393 0.59962024 0.23951556]\n",
      " [0.0845603  0.22050254 0.1498997  0.44983864 0.85873391]] \n",
      "\n",
      "minimum value along rows: [0.00724821 0.12925544 0.14219726 0.23951556 0.0845603 ] \n",
      "\n",
      "maximum value along rows [0.94530298 0.99473986 0.8048407  0.8749371  0.85873391]\n",
      "\n",
      "minimum value along columns [0.0845603  0.22050254 0.12925544 0.00724821 0.23951556] \n",
      "\n",
      "maximum value along columns [0.99473986 0.94530298 0.66911311 0.59962024 0.85873391]\n"
     ]
    }
   ],
   "source": [
    "# Task 2: Generate a random matrix of size 5x5 and find the min and max values along each row and column\n",
    "\n",
    "matrix = np.random.rand(5, 5)             # for creating a random matrix of size 5x5 random.rand function is used\n",
    "\n",
    "min_values_rows = np.min(matrix, axis=1)    # axis=1 indicates along the row wise\n",
    "max_values_rows = np.max(matrix, axis=1)\n",
    "\n",
    "min_values_columns = np.min(matrix, axis=0)   # axis=0 indicates along the column wise\n",
    "max_values_columns = np.max(matrix, axis=0)\n",
    "\n",
    "print(matrix,\"\\n\\nminimum value along rows:\",min_values_rows,\"\\n\\nmaximum value along rows\",max_values_rows)\n",
    "print(\"\\nminimum value along columns\",min_values_columns,\"\\n\\nmaximum value along columns\",max_values_columns)"
   ]
  },
  {
   "cell_type": "code",
   "execution_count": 24,
   "id": "258d57bf",
   "metadata": {},
   "outputs": [
    {
     "name": "stdout",
     "output_type": "stream",
     "text": [
      "cosine similaritily between two vectors: 0.9746318461970762\n"
     ]
    }
   ],
   "source": [
    "# Task 3: Implement the function to calculate the cosine similarity between two vectors\n",
    "\n",
    "def cos_sim(vec1, vec2):\n",
    "    \n",
    "    dot_product = np.dot(vec1, vec2)     #gives the dot product of vector1 and vector2\n",
    "    \n",
    "    norm_vec1 = np.linalg.norm(vec1)     #here in order to get magnitude of vector we use linalg.norm function\n",
    "    norm_vec2 = np.linalg.norm(vec2)\n",
    "    \n",
    "    return dot_product / (norm_vec1 * norm_vec2)\n",
    "\n",
    "# Example vectors for cosine similarity\n",
    "vec1 = np.array([1, 2, 3])\n",
    "vec2 = np.array([4, 5, 6])\n",
    "\n",
    "print(\"cosine similaritily between two vectors:\",cos_sim(vec1,vec2))"
   ]
  },
  {
   "cell_type": "code",
   "execution_count": null,
   "id": "4a28fcc0",
   "metadata": {},
   "outputs": [],
   "source": []
  }
 ],
 "metadata": {
  "kernelspec": {
   "display_name": "Python 3 (ipykernel)",
   "language": "python",
   "name": "python3"
  },
  "language_info": {
   "codemirror_mode": {
    "name": "ipython",
    "version": 3
   },
   "file_extension": ".py",
   "mimetype": "text/x-python",
   "name": "python",
   "nbconvert_exporter": "python",
   "pygments_lexer": "ipython3",
   "version": "3.10.9"
  }
 },
 "nbformat": 4,
 "nbformat_minor": 5
}
